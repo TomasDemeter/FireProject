{
 "cells": [
  {
   "attachments": {},
   "cell_type": "markdown",
   "metadata": {},
   "source": [
    "# Fire data preprocessing"
   ]
  },
  {
   "attachments": {},
   "cell_type": "markdown",
   "metadata": {},
   "source": [
    "## defining two functions for download and unpacking the data"
   ]
  },
  {
   "attachments": {},
   "cell_type": "markdown",
   "metadata": {},
   "source": [
    "for instalation of cdsapi follow https://cds.climate.copernicus.eu/api-how-to"
   ]
  },
  {
   "cell_type": "code",
   "execution_count": 9,
   "metadata": {},
   "outputs": [],
   "source": [
    "import cdsapi\n",
    "\n",
    "def data_download(year, month, region):\n",
    "\n",
    "    c = cdsapi.Client()\n",
    "    c.retrieve(\n",
    "        'satellite-fire-burned-area',\n",
    "        {\n",
    "            'origin': 'esa_cci',\n",
    "            'sensor': 'modis',\n",
    "            'variable': 'grid_variables',\n",
    "            'version': '5_1_1cds',\n",
    "            'region': f'{region}',\n",
    "            'year': f'{year}',\n",
    "            'month': f'{str(month).zfill(2)}',\n",
    "            'nominal_day': '01',\n",
    "            'format': 'tgz',\n",
    "        },\n",
    "        f'../data/{region}_{year}_{str(month).zfill(2)}.tar.gz')\n",
    "       \n",
    "    return unpack_data()\n"
   ]
  },
  {
   "cell_type": "code",
   "execution_count": 10,
   "metadata": {},
   "outputs": [],
   "source": [
    "def unpack_data():\n",
    "    import os\n",
    "    import glob\n",
    "    data_dir = '../data'\n",
    "\n",
    "# Find all .tar.gz files in the data directory\n",
    "    tar_files = glob.glob(os.path.join(data_dir, '*.tar.gz'))\n",
    "\n",
    "# Unpack and remove each .tar.gz file\n",
    "    for tar_file in tar_files:\n",
    "        os.system(f'tar -xf {tar_file} -C {data_dir}')\n",
    "        os.remove(tar_file)"
   ]
  },
  {
   "attachments": {},
   "cell_type": "markdown",
   "metadata": {},
   "source": [
    "### here you can use the functions to download the data and unpack it"
   ]
  },
  {
   "cell_type": "code",
   "execution_count": 11,
   "metadata": {},
   "outputs": [
    {
     "name": "stderr",
     "output_type": "stream",
     "text": [
      "2023-06-06 09:32:37,503 INFO Welcome to the CDS\n",
      "2023-06-06 09:32:37,504 INFO Sending request to https://cds.climate.copernicus.eu/api/v2/resources/satellite-fire-burned-area\n",
      "2023-06-06 09:32:37,548 INFO Request is queued\n",
      "2023-06-06 09:32:38,585 INFO Request is running\n",
      "2023-06-06 09:32:40,141 INFO Request is completed\n",
      "2023-06-06 09:32:40,143 INFO Downloading https://download-0018.copernicus-climate.eu/cache-compute-0018/cache/data6/dataset-satellite-fire-burned-area-1ae1e615-4ae5-408e-9bf4-de9773d05e3f.tar.gz to ../data/europe_2001_09.tar.gz (1.9M)\n",
      "2023-06-06 09:32:40,814 INFO Download rate 2.9M/s   \n",
      "2023-06-06 09:32:40,909 INFO Welcome to the CDS\n",
      "2023-06-06 09:32:40,910 INFO Sending request to https://cds.climate.copernicus.eu/api/v2/resources/satellite-fire-burned-area\n",
      "2023-06-06 09:32:40,996 INFO Request is queued\n",
      "2023-06-06 09:32:42,017 INFO Request is running\n",
      "2023-06-06 09:32:43,543 INFO Request is completed\n",
      "2023-06-06 09:32:43,545 INFO Downloading https://download-0016.copernicus-climate.eu/cache-compute-0016/cache/data1/dataset-satellite-fire-burned-area-7852cc7f-b658-49f8-8394-13c5623040f1.tar.gz to ../data/europe_2002_09.tar.gz (2.1M)\n",
      "2023-06-06 09:32:43,936 INFO Download rate 5.4M/s  \n",
      "2023-06-06 09:32:44,001 INFO Welcome to the CDS\n",
      "2023-06-06 09:32:44,002 INFO Sending request to https://cds.climate.copernicus.eu/api/v2/resources/satellite-fire-burned-area\n",
      "2023-06-06 09:32:44,041 INFO Request is queued\n",
      "2023-06-06 09:32:46,591 INFO Request is completed\n",
      "2023-06-06 09:32:46,592 INFO Downloading https://download-0019.copernicus-climate.eu/cache-compute-0019/cache/data9/dataset-satellite-fire-burned-area-b8d07950-d007-45c5-8263-d13bf5d7cbe8.tar.gz to ../data/europe_2003_09.tar.gz (2M)\n",
      "2023-06-06 09:32:46,992 INFO Download rate 5.1M/s   \n",
      "2023-06-06 09:32:47,055 INFO Welcome to the CDS\n",
      "2023-06-06 09:32:47,056 INFO Sending request to https://cds.climate.copernicus.eu/api/v2/resources/satellite-fire-burned-area\n",
      "2023-06-06 09:32:47,170 INFO Request is queued\n",
      "2023-06-06 09:32:48,192 INFO Request is running\n",
      "2023-06-06 09:32:49,715 INFO Request is completed\n",
      "2023-06-06 09:32:49,716 INFO Downloading https://download-0021.copernicus-climate.eu/cache-compute-0021/cache/data3/dataset-satellite-fire-burned-area-7bece7e0-cc87-457f-a6ec-af0ca5d84514.tar.gz to ../data/europe_2004_09.tar.gz (2M)\n",
      "2023-06-06 09:32:50,060 INFO Download rate 5.8M/s  \n",
      "2023-06-06 09:32:50,123 INFO Welcome to the CDS\n",
      "2023-06-06 09:32:50,124 INFO Sending request to https://cds.climate.copernicus.eu/api/v2/resources/satellite-fire-burned-area\n",
      "2023-06-06 09:32:50,186 INFO Request is queued\n",
      "2023-06-06 09:32:51,212 INFO Request is running\n",
      "2023-06-06 09:32:52,735 INFO Request is completed\n",
      "2023-06-06 09:32:52,736 INFO Downloading https://download-0004-clone.copernicus-climate.eu/cache-compute-0004/cache/data2/dataset-satellite-fire-burned-area-50978b92-561c-40af-b4e3-1e0cf82da39e.tar.gz to ../data/europe_2005_09.tar.gz (2M)\n",
      "2023-06-06 09:32:52,936 INFO Download rate 10M/s   \n",
      "2023-06-06 09:32:53,144 INFO Welcome to the CDS\n",
      "2023-06-06 09:32:53,145 INFO Sending request to https://cds.climate.copernicus.eu/api/v2/resources/satellite-fire-burned-area\n",
      "2023-06-06 09:32:53,186 INFO Request is queued\n",
      "2023-06-06 09:32:54,210 INFO Request is running\n",
      "2023-06-06 09:32:55,734 INFO Request is completed\n",
      "2023-06-06 09:32:55,735 INFO Downloading https://download-0006-clone.copernicus-climate.eu/cache-compute-0006/cache/data8/dataset-satellite-fire-burned-area-1c177396-d328-426d-9a30-a2cfe7eb16e0.tar.gz to ../data/europe_2006_09.tar.gz (2M)\n",
      "2023-06-06 09:32:56,151 INFO Download rate 4.8M/s   \n",
      "2023-06-06 09:32:56,213 INFO Welcome to the CDS\n",
      "2023-06-06 09:32:56,215 INFO Sending request to https://cds.climate.copernicus.eu/api/v2/resources/satellite-fire-burned-area\n",
      "2023-06-06 09:32:56,362 INFO Request is queued\n",
      "2023-06-06 09:32:57,384 INFO Request is running\n",
      "2023-06-06 09:32:58,911 INFO Request is completed\n",
      "2023-06-06 09:32:58,912 INFO Downloading https://download-0014-clone.copernicus-climate.eu/cache-compute-0014/cache/data4/dataset-satellite-fire-burned-area-869344c9-b045-4d12-a921-69f7efcca4d6.tar.gz to ../data/europe_2007_09.tar.gz (2M)\n",
      "2023-06-06 09:32:59,234 INFO Download rate 6.3M/s  \n",
      "2023-06-06 09:32:59,295 INFO Welcome to the CDS\n",
      "2023-06-06 09:32:59,296 INFO Sending request to https://cds.climate.copernicus.eu/api/v2/resources/satellite-fire-burned-area\n",
      "2023-06-06 09:32:59,377 INFO Request is queued\n",
      "2023-06-06 09:33:00,442 INFO Request is running\n",
      "2023-06-06 09:33:01,965 INFO Request is completed\n",
      "2023-06-06 09:33:01,966 INFO Downloading https://download-0009-clone.copernicus-climate.eu/cache-compute-0009/cache/data5/dataset-satellite-fire-burned-area-79c8758c-d416-44e9-a4c5-16ca318d8636.tar.gz to ../data/europe_2008_09.tar.gz (1.9M)\n",
      "2023-06-06 09:33:02,159 INFO Download rate 10.1M/s \n",
      "2023-06-06 09:33:02,222 INFO Welcome to the CDS\n",
      "2023-06-06 09:33:02,223 INFO Sending request to https://cds.climate.copernicus.eu/api/v2/resources/satellite-fire-burned-area\n",
      "2023-06-06 09:33:02,317 INFO Request is queued\n",
      "2023-06-06 09:33:03,340 INFO Request is running\n",
      "2023-06-06 09:33:04,865 INFO Request is completed\n",
      "2023-06-06 09:33:04,866 INFO Downloading https://download-0012-clone.copernicus-climate.eu/cache-compute-0012/cache/data7/dataset-satellite-fire-burned-area-fbef440d-92c6-406e-b64a-e07f985a56f1.tar.gz to ../data/europe_2009_09.tar.gz (1.9M)\n",
      "2023-06-06 09:33:05,304 INFO Download rate 4.4M/s   \n",
      "2023-06-06 09:33:05,364 INFO Welcome to the CDS\n",
      "2023-06-06 09:33:05,365 INFO Sending request to https://cds.climate.copernicus.eu/api/v2/resources/satellite-fire-burned-area\n",
      "2023-06-06 09:33:05,421 INFO Request is queued\n",
      "2023-06-06 09:33:06,445 INFO Request is running\n",
      "2023-06-06 09:33:07,966 INFO Request is completed\n",
      "2023-06-06 09:33:07,967 INFO Downloading https://download-0018.copernicus-climate.eu/cache-compute-0018/cache/data4/dataset-satellite-fire-burned-area-e60ca52c-d0ef-4b2d-8150-8f48913bcfcd.tar.gz to ../data/europe_2010_09.tar.gz (2M)\n",
      "2023-06-06 09:33:08,175 INFO Download rate 9.7M/s  \n",
      "2023-06-06 09:33:08,238 INFO Welcome to the CDS\n",
      "2023-06-06 09:33:08,239 INFO Sending request to https://cds.climate.copernicus.eu/api/v2/resources/satellite-fire-burned-area\n",
      "2023-06-06 09:33:08,282 INFO Request is queued\n",
      "2023-06-06 09:33:10,823 INFO Request is completed\n",
      "2023-06-06 09:33:10,824 INFO Downloading https://download-0003-clone.copernicus-climate.eu/cache-compute-0003/cache/data2/dataset-satellite-fire-burned-area-d973483f-65e3-4f7a-ac7f-576141dc4e2d.tar.gz to ../data/europe_2011_09.tar.gz (2M)\n",
      "2023-06-06 09:33:11,135 INFO Download rate 6.5M/s  \n",
      "2023-06-06 09:33:11,199 INFO Welcome to the CDS\n",
      "2023-06-06 09:33:11,200 INFO Sending request to https://cds.climate.copernicus.eu/api/v2/resources/satellite-fire-burned-area\n",
      "2023-06-06 09:33:11,263 INFO Request is queued\n",
      "2023-06-06 09:33:12,285 INFO Request is running\n",
      "2023-06-06 09:33:13,812 INFO Request is completed\n",
      "2023-06-06 09:33:13,814 INFO Downloading https://download-0010-clone.copernicus-climate.eu/cache-compute-0010/cache/data8/dataset-satellite-fire-burned-area-bb0855fe-9d55-4214-984d-ca34df90d0a2.tar.gz to ../data/europe_2012_09.tar.gz (2M)\n",
      "2023-06-06 09:33:14,200 INFO Download rate 5.1M/s  \n",
      "2023-06-06 09:33:14,267 INFO Welcome to the CDS\n",
      "2023-06-06 09:33:14,268 INFO Sending request to https://cds.climate.copernicus.eu/api/v2/resources/satellite-fire-burned-area\n",
      "2023-06-06 09:33:14,320 INFO Request is queued\n",
      "2023-06-06 09:33:16,867 INFO Request is completed\n",
      "2023-06-06 09:33:16,869 INFO Downloading https://download-0001-clone.copernicus-climate.eu/cache-compute-0001/cache/data6/dataset-satellite-fire-burned-area-39110081-0494-4d65-9fb2-733643bee574.tar.gz to ../data/europe_2013_09.tar.gz (1.9M)\n",
      "2023-06-06 09:33:17,245 INFO Download rate 5M/s    \n",
      "2023-06-06 09:33:17,308 INFO Welcome to the CDS\n",
      "2023-06-06 09:33:17,309 INFO Sending request to https://cds.climate.copernicus.eu/api/v2/resources/satellite-fire-burned-area\n",
      "2023-06-06 09:33:17,445 INFO Request is queued\n",
      "2023-06-06 09:33:18,468 INFO Request is running\n",
      "2023-06-06 09:33:19,993 INFO Request is completed\n",
      "2023-06-06 09:33:19,995 INFO Downloading https://download-0015-clone.copernicus-climate.eu/cache-compute-0015/cache/data4/dataset-satellite-fire-burned-area-0fb49b0a-236b-4352-8bff-d0d6736d84e8.tar.gz to ../data/europe_2014_09.tar.gz (1.9M)\n",
      "2023-06-06 09:33:20,613 INFO Download rate 3.1M/s   \n",
      "2023-06-06 09:33:20,679 INFO Welcome to the CDS\n",
      "2023-06-06 09:33:20,680 INFO Sending request to https://cds.climate.copernicus.eu/api/v2/resources/satellite-fire-burned-area\n",
      "2023-06-06 09:33:20,720 INFO Request is queued\n",
      "2023-06-06 09:33:21,741 INFO Request is running\n",
      "2023-06-06 09:33:23,266 INFO Request is completed\n",
      "2023-06-06 09:33:23,268 INFO Downloading https://download-0005-clone.copernicus-climate.eu/cache-compute-0005/cache/data4/dataset-satellite-fire-burned-area-43e6df4f-29f5-4c4a-bab5-4fd92107f0c5.tar.gz to ../data/europe_2015_09.tar.gz (2M)\n",
      "2023-06-06 09:33:23,636 INFO Download rate 5.4M/s   \n",
      "2023-06-06 09:33:23,699 INFO Welcome to the CDS\n",
      "2023-06-06 09:33:23,700 INFO Sending request to https://cds.climate.copernicus.eu/api/v2/resources/satellite-fire-burned-area\n",
      "2023-06-06 09:33:23,759 INFO Request is queued\n",
      "2023-06-06 09:33:24,783 INFO Request is running\n",
      "2023-06-06 09:33:26,306 INFO Request is completed\n",
      "2023-06-06 09:33:26,308 INFO Downloading https://download-0017.copernicus-climate.eu/cache-compute-0017/cache/data4/dataset-satellite-fire-burned-area-713dc5fd-0b8d-41fd-a348-2b2e5262cbe5.tar.gz to ../data/europe_2016_09.tar.gz (1.9M)\n",
      "2023-06-06 09:33:26,700 INFO Download rate 4.8M/s  \n",
      "2023-06-06 09:33:26,758 INFO Welcome to the CDS\n",
      "2023-06-06 09:33:26,759 INFO Sending request to https://cds.climate.copernicus.eu/api/v2/resources/satellite-fire-burned-area\n",
      "2023-06-06 09:33:26,840 INFO Request is queued\n",
      "2023-06-06 09:33:27,861 INFO Request is running\n",
      "2023-06-06 09:33:29,385 INFO Request is completed\n",
      "2023-06-06 09:33:29,387 INFO Downloading https://download-0012-clone.copernicus-climate.eu/cache-compute-0012/cache/data2/dataset-satellite-fire-burned-area-9bc90a6c-6eb7-4b26-a2aa-2c77cc4979b7.tar.gz to ../data/europe_2017_09.tar.gz (2M)\n",
      "2023-06-06 09:33:29,619 INFO Download rate 8.5M/s   \n",
      "2023-06-06 09:33:29,678 INFO Welcome to the CDS\n",
      "2023-06-06 09:33:29,679 INFO Sending request to https://cds.climate.copernicus.eu/api/v2/resources/satellite-fire-burned-area\n",
      "2023-06-06 09:33:29,703 INFO Request is queued\n",
      "2023-06-06 09:33:30,722 INFO Request is running\n",
      "2023-06-06 09:33:32,246 INFO Request is completed\n",
      "2023-06-06 09:33:32,247 INFO Downloading https://download-0008-clone.copernicus-climate.eu/cache-compute-0008/cache/data9/dataset-satellite-fire-burned-area-5012d34e-a0cd-4b58-b98b-26795fe6e03b.tar.gz to ../data/europe_2018_09.tar.gz (1.9M)\n",
      "2023-06-06 09:33:32,602 INFO Download rate 5.3M/s  \n",
      "2023-06-06 09:33:32,664 INFO Welcome to the CDS\n",
      "2023-06-06 09:33:32,665 INFO Sending request to https://cds.climate.copernicus.eu/api/v2/resources/satellite-fire-burned-area\n",
      "2023-06-06 09:33:32,742 INFO Request is completed\n",
      "2023-06-06 09:33:32,744 INFO Downloading https://download-0019.copernicus-climate.eu/cache-compute-0019/cache/data0/dataset-satellite-fire-burned-area-e44a3151-e06f-4373-8d88-10fa5b89b3b5.tar.gz to ../data/europe_2019_09.tar.gz (1.5M)\n",
      "2023-06-06 09:33:33,086 INFO Download rate 4.5M/s   \n"
     ]
    }
   ],
   "source": [
    "#just select date and region\n",
    "#modifying forloop should not be necessary\n",
    "\n",
    "start_year = 2001\n",
    "end_year = 2019\n",
    "start_month = 8\n",
    "end_month = 8\n",
    "region = 'europe'\n",
    "\n",
    "for i in range(start_year, end_year + 1):\n",
    "    for j in range(start_month + 1 , end_month + 2):\n",
    "        data_download(i, j, region)"
   ]
  },
  {
   "attachments": {},
   "cell_type": "markdown",
   "metadata": {},
   "source": [
    "## Preprocessing data and saving the output as fire.csv"
   ]
  },
  {
   "attachments": {},
   "cell_type": "markdown",
   "metadata": {},
   "source": [
    "### function"
   ]
  },
  {
   "cell_type": "code",
   "execution_count": 12,
   "metadata": {},
   "outputs": [],
   "source": [
    "import os\n",
    "import xarray as xr\n",
    "import pandas as pd\n",
    "\n",
    "def fire_preprocessing(file_path):\n",
    "    ds_fire = xr.open_dataset(file_path, engine='netcdf4')\n",
    "    \n",
    "    filtered_data = ds_fire.squeeze('time')\n",
    "    filtered_data = filtered_data.sel(lat=slice(52, 33), lon=slice(-10, 30))\n",
    "    filtered_data = filtered_data[['burned_area',\n",
    "                                   'fraction_of_burnable_area'\n",
    "                                   ]]\n",
    "    filtered_data = filtered_data.where(filtered_data['fraction_of_burnable_area'] > 0, drop = True)\n",
    "    \n",
    "    fire_df = filtered_data.to_dataframe().reset_index()\n",
    "    fire_df['year'] = fire_df['time'].dt.year\n",
    "    fire_df['month'] = fire_df['time'].dt.month\n",
    "    fire_df = fire_df.drop('time', axis= 1).drop_duplicates().dropna()\n",
    "    \n",
    "    return fire_df"
   ]
  },
  {
   "attachments": {},
   "cell_type": "markdown",
   "metadata": {},
   "source": [
    "### this will call the preprocessing function on all the .nc files in ../data folder, preprocess it and save the result in ../data folder in fire.csv file"
   ]
  },
  {
   "cell_type": "code",
   "execution_count": 14,
   "metadata": {},
   "outputs": [],
   "source": [
    "data_dir = '../data'\n",
    "dfs = []\n",
    "\n",
    "for file_name in os.listdir(data_dir):\n",
    "    if file_name.endswith('.nc') and 'FIRE' in file_name:\n",
    "        file_path = os.path.join(data_dir, file_name)\n",
    "        df = fire_preprocessing(file_path)\n",
    "        dfs.append(df)\n",
    "\n",
    "final_df = pd.concat(dfs, ignore_index=True)\n",
    "final_df.to_csv(os.path.join(data_dir, 'fire.csv'), index=False)"
   ]
  }
 ],
 "metadata": {
  "kernelspec": {
   "display_name": "Python 3",
   "language": "python",
   "name": "python3"
  },
  "language_info": {
   "codemirror_mode": {
    "name": "ipython",
    "version": 3
   },
   "file_extension": ".py",
   "mimetype": "text/x-python",
   "name": "python",
   "nbconvert_exporter": "python",
   "pygments_lexer": "ipython3",
   "version": "3.10.6"
  },
  "orig_nbformat": 4
 },
 "nbformat": 4,
 "nbformat_minor": 2
}
