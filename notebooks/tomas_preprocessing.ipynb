{
 "cells": [
  {
   "attachments": {},
   "cell_type": "markdown",
   "metadata": {},
   "source": [
    "# Fire data preprocessing"
   ]
  },
  {
   "attachments": {},
   "cell_type": "markdown",
   "metadata": {},
   "source": [
    "## defining two functions for download and unpacking the data"
   ]
  },
  {
   "attachments": {},
   "cell_type": "markdown",
   "metadata": {},
   "source": [
    "for instalation of cdsapi follow https://cds.climate.copernicus.eu/api-how-to"
   ]
  },
  {
   "cell_type": "code",
   "execution_count": 14,
   "metadata": {},
   "outputs": [],
   "source": [
    "import cdsapi\n",
    "\n",
    "def data_download(year, month, region):\n",
    "\n",
    "    c = cdsapi.Client()\n",
    "    c.retrieve(\n",
    "        'satellite-fire-burned-area',\n",
    "        {\n",
    "            'origin': 'esa_cci',\n",
    "            'sensor': 'modis',\n",
    "            'variable': 'grid_variables',\n",
    "            'version': '5_1_1cds',\n",
    "            'region': f'{region}',\n",
    "            'year': f'{year}',\n",
    "            'month': f'{str(month).zfill(2)}',\n",
    "            'nominal_day': '01',\n",
    "            'format': 'tgz',\n",
    "        },\n",
    "        f'../data/{region}_{year}_{str(month).zfill(2)}.tar.gz')\n",
    "       \n",
    "    return unpack_data()\n"
   ]
  },
  {
   "cell_type": "code",
   "execution_count": 13,
   "metadata": {},
   "outputs": [],
   "source": [
    "def unpack_data():\n",
    "    import os\n",
    "    import glob\n",
    "    data_dir = '../data'\n",
    "\n",
    "# Find all .tar.gz files in the data directory\n",
    "    tar_files = glob.glob(os.path.join(data_dir, '*.tar.gz'))\n",
    "\n",
    "# Unpack and remove each .tar.gz file\n",
    "    for tar_file in tar_files:\n",
    "        os.system(f'tar -xf {tar_file} -C {data_dir}')\n",
    "        os.remove(tar_file)"
   ]
  },
  {
   "attachments": {},
   "cell_type": "markdown",
   "metadata": {},
   "source": [
    "### here you can use the functions to download the data and unpack it"
   ]
  },
  {
   "cell_type": "code",
   "execution_count": null,
   "metadata": {},
   "outputs": [],
   "source": [
    "#just select date and region\n",
    "#modifying forloop should not be necessary\n",
    "\n",
    "start_year = 2001\n",
    "end_year = 2019\n",
    "start_month = 8\n",
    "end_month = 8\n",
    "region = 'europe'\n",
    "\n",
    "for i in range(start_year, end_year + 1):\n",
    "    for j in range(start_month, end_month + 1):\n",
    "        data_download(i, j, region)"
   ]
  },
  {
   "attachments": {},
   "cell_type": "markdown",
   "metadata": {},
   "source": [
    "## Preprocessing data and saving the output as fire.csv"
   ]
  },
  {
   "attachments": {},
   "cell_type": "markdown",
   "metadata": {},
   "source": [
    "### function"
   ]
  },
  {
   "cell_type": "code",
   "execution_count": 5,
   "metadata": {},
   "outputs": [],
   "source": [
    "import os\n",
    "import xarray as xr\n",
    "import pandas as pd\n",
    "\n",
    "def fire_preprocessing(file_path):\n",
    "    ds_fire = xr.open_dataset(file_path, engine='netcdf4')\n",
    "    \n",
    "    filtered_data = ds_fire.squeeze('time')\n",
    "    filtered_data = filtered_data.sel(lat=slice(52, 33), lon=slice(-10, 30))\n",
    "    filtered_data = filtered_data[['burned_area',\n",
    "                                   'fraction_of_burnable_area'\n",
    "                                   ]]\n",
    "    filtered_data = filtered_data.where(filtered_data['fraction_of_burnable_area'] > 0, drop = True)\n",
    "    \n",
    "    fire_df = filtered_data.to_dataframe().reset_index()\n",
    "    fire_df['year'] = fire_df['time'].dt.year\n",
    "    fire_df['month'] = fire_df['time'].dt.month\n",
    "    fire_df = fire_df.drop('time', axis= 1).drop_duplicates().dropna()\n",
    "    \n",
    "    return fire_df\n"
   ]
  },
  {
   "attachments": {},
   "cell_type": "markdown",
   "metadata": {},
   "source": [
    "### this will call the preprocessing function on all the .nc files in ../data folder, preprocess it and save the result in ../data folder in fire.csv file"
   ]
  },
  {
   "cell_type": "code",
   "execution_count": 6,
   "metadata": {},
   "outputs": [],
   "source": [
    "data_dir = '../data'\n",
    "dfs = []\n",
    "\n",
    "for file_name in os.listdir(data_dir):\n",
    "    if file_name.endswith('.nc'):\n",
    "        file_path = os.path.join(data_dir, file_name)\n",
    "        df = fire_preprocessing(file_path)\n",
    "        dfs.append(df)\n",
    "\n",
    "final_df = pd.concat(dfs, ignore_index=True)\n",
    "final_df.to_csv(os.path.join(data_dir, 'fire.csv'), index=False)\n"
   ]
  },
  {
   "cell_type": "code",
   "execution_count": null,
   "metadata": {},
   "outputs": [],
   "source": []
  }
 ],
 "metadata": {
  "kernelspec": {
   "display_name": "Python 3",
   "language": "python",
   "name": "python3"
  },
  "language_info": {
   "codemirror_mode": {
    "name": "ipython",
    "version": 3
   },
   "file_extension": ".py",
   "mimetype": "text/x-python",
   "name": "python",
   "nbconvert_exporter": "python",
   "pygments_lexer": "ipython3",
   "version": "3.10.6"
  },
  "orig_nbformat": 4
 },
 "nbformat": 4,
 "nbformat_minor": 2
}
