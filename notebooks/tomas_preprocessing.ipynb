{
 "cells": [
  {
   "attachments": {},
   "cell_type": "markdown",
   "metadata": {},
   "source": [
    "# Fire data preprocessing"
   ]
  },
  {
   "attachments": {},
   "cell_type": "markdown",
   "metadata": {},
   "source": [
    "## defining two functions for download and unpacking the data"
   ]
  },
  {
   "attachments": {},
   "cell_type": "markdown",
   "metadata": {},
   "source": [
    "for instalation of cdsapi follow https://cds.climate.copernicus.eu/api-how-to"
   ]
  },
  {
   "cell_type": "code",
   "execution_count": 15,
   "metadata": {},
   "outputs": [],
   "source": [
    "import cdsapi\n",
    "\n",
    "def data_download(year, month, region):\n",
    "\n",
    "    c = cdsapi.Client()\n",
    "    c.retrieve(\n",
    "        'satellite-fire-burned-area',\n",
    "        {\n",
    "            'origin': 'esa_cci',\n",
    "            'sensor': 'modis',\n",
    "            'variable': 'grid_variables',\n",
    "            'version': '5_1_1cds',\n",
    "            'region': f'{region}',\n",
    "            'year': f'{year}',\n",
    "            'month': f'{str(month).zfill(2)}',\n",
    "            'nominal_day': '01',\n",
    "            'format': 'tgz',\n",
    "        },\n",
    "        f'../data/{region}_{year}_{str(month).zfill(2)}.tar.gz')\n",
    "       \n",
    "    return unpack_data()\n"
   ]
  },
  {
   "cell_type": "code",
   "execution_count": 16,
   "metadata": {},
   "outputs": [],
   "source": [
    "def unpack_data():\n",
    "    import os\n",
    "    import glob\n",
    "    data_dir = '../data'\n",
    "\n",
    "# Find all .tar.gz files in the data directory\n",
    "    tar_files = glob.glob(os.path.join(data_dir, '*.tar.gz'))\n",
    "\n",
    "# Unpack and remove each .tar.gz file\n",
    "    for tar_file in tar_files:\n",
    "        os.system(f'tar -xf {tar_file} -C {data_dir}')\n",
    "        os.remove(tar_file)"
   ]
  },
  {
   "attachments": {},
   "cell_type": "markdown",
   "metadata": {},
   "source": [
    "### here you can use the functions to download the data and unpack it"
   ]
  },
  {
   "cell_type": "code",
   "execution_count": 17,
   "metadata": {},
   "outputs": [
    {
     "name": "stderr",
     "output_type": "stream",
     "text": [
      "2023-06-06 10:06:14,109 INFO Welcome to the CDS\n",
      "2023-06-06 10:06:14,110 INFO Sending request to https://cds.climate.copernicus.eu/api/v2/resources/satellite-fire-burned-area\n",
      "2023-06-06 10:06:14,289 INFO Request is completed\n",
      "2023-06-06 10:06:14,290 INFO Downloading https://download-0021.copernicus-climate.eu/cache-compute-0021/cache/data6/dataset-satellite-fire-burned-area-96fe45bf-4777-4543-8a70-ccec9eff0121.tar.gz to ../data/europe_2001_08.tar.gz (2M)\n",
      "2023-06-06 10:06:14,720 INFO Download rate 4.7M/s  \n",
      "2023-06-06 10:06:14,797 INFO Welcome to the CDS\n",
      "2023-06-06 10:06:14,798 INFO Sending request to https://cds.climate.copernicus.eu/api/v2/resources/satellite-fire-burned-area\n",
      "2023-06-06 10:06:15,896 INFO Request is completed\n",
      "2023-06-06 10:06:15,897 INFO Downloading https://download-0005-clone.copernicus-climate.eu/cache-compute-0005/cache/data4/dataset-satellite-fire-burned-area-4a5af156-0a7e-460b-9130-c431b8b40d25.tar.gz to ../data/europe_2002_08.tar.gz (2.1M)\n",
      "2023-06-06 10:06:16,300 INFO Download rate 5.2M/s  \n",
      "2023-06-06 10:06:16,369 INFO Welcome to the CDS\n",
      "2023-06-06 10:06:16,370 INFO Sending request to https://cds.climate.copernicus.eu/api/v2/resources/satellite-fire-burned-area\n",
      "2023-06-06 10:06:16,533 INFO Request is completed\n",
      "2023-06-06 10:06:16,534 INFO Downloading https://download-0019.copernicus-climate.eu/cache-compute-0019/cache/data8/dataset-satellite-fire-burned-area-a75c454d-a5dc-4a4c-af57-d285f17f51d7.tar.gz to ../data/europe_2003_08.tar.gz (2.1M)\n",
      "2023-06-06 10:06:16,918 INFO Download rate 5.4M/s   \n",
      "2023-06-06 10:06:16,990 INFO Welcome to the CDS\n",
      "2023-06-06 10:06:16,991 INFO Sending request to https://cds.climate.copernicus.eu/api/v2/resources/satellite-fire-burned-area\n",
      "2023-06-06 10:06:17,186 INFO Request is completed\n",
      "2023-06-06 10:06:17,187 INFO Downloading https://download-0005-clone.copernicus-climate.eu/cache-compute-0005/cache/data6/dataset-satellite-fire-burned-area-de72c4ee-85db-4869-9639-b91d40505241.tar.gz to ../data/europe_2004_08.tar.gz (2M)\n",
      "2023-06-06 10:06:17,395 INFO Download rate 9.7M/s  \n",
      "2023-06-06 10:06:17,464 INFO Welcome to the CDS\n",
      "2023-06-06 10:06:17,465 INFO Sending request to https://cds.climate.copernicus.eu/api/v2/resources/satellite-fire-burned-area\n",
      "2023-06-06 10:06:17,629 INFO Request is completed\n",
      "2023-06-06 10:06:17,630 INFO Downloading https://download-0005-clone.copernicus-climate.eu/cache-compute-0005/cache/data6/dataset-satellite-fire-burned-area-be2900c2-363e-438e-bf67-13b44c6af89f.tar.gz to ../data/europe_2005_08.tar.gz (2M)\n",
      "2023-06-06 10:06:17,836 INFO Download rate 9.9M/s   \n",
      "2023-06-06 10:06:17,904 INFO Welcome to the CDS\n",
      "2023-06-06 10:06:17,906 INFO Sending request to https://cds.climate.copernicus.eu/api/v2/resources/satellite-fire-burned-area\n",
      "2023-06-06 10:06:18,072 INFO Request is completed\n",
      "2023-06-06 10:06:18,073 INFO Downloading https://download-0000-clone.copernicus-climate.eu/cache-compute-0000/cache/data1/dataset-satellite-fire-burned-area-6630063c-c578-441e-923f-f9fdda3de777.tar.gz to ../data/europe_2006_08.tar.gz (2.1M)\n",
      "2023-06-06 10:06:18,523 INFO Download rate 4.6M/s  \n",
      "2023-06-06 10:06:18,592 INFO Welcome to the CDS\n",
      "2023-06-06 10:06:18,594 INFO Sending request to https://cds.climate.copernicus.eu/api/v2/resources/satellite-fire-burned-area\n",
      "2023-06-06 10:06:18,845 INFO Request is completed\n",
      "2023-06-06 10:06:18,846 INFO Downloading https://download-0020.copernicus-climate.eu/cache-compute-0020/cache/data8/dataset-satellite-fire-burned-area-8c57296d-6cdf-4b02-8f58-870b5691685e.tar.gz to ../data/europe_2007_08.tar.gz (2.1M)\n",
      "2023-06-06 10:06:19,233 INFO Download rate 5.3M/s  \n",
      "2023-06-06 10:06:19,302 INFO Welcome to the CDS\n",
      "2023-06-06 10:06:19,303 INFO Sending request to https://cds.climate.copernicus.eu/api/v2/resources/satellite-fire-burned-area\n",
      "2023-06-06 10:06:19,486 INFO Request is completed\n",
      "2023-06-06 10:06:19,487 INFO Downloading https://download-0018.copernicus-climate.eu/cache-compute-0018/cache/data2/dataset-satellite-fire-burned-area-a3057d14-c82c-411d-b747-29929b8aafef.tar.gz to ../data/europe_2008_08.tar.gz (2M)\n",
      "2023-06-06 10:06:19,895 INFO Download rate 4.9M/s  \n",
      "2023-06-06 10:06:19,965 INFO Welcome to the CDS\n",
      "2023-06-06 10:06:19,966 INFO Sending request to https://cds.climate.copernicus.eu/api/v2/resources/satellite-fire-burned-area\n",
      "2023-06-06 10:06:20,177 INFO Request is completed\n",
      "2023-06-06 10:06:20,178 INFO Downloading https://download-0007-clone.copernicus-climate.eu/cache-compute-0007/cache/data1/dataset-satellite-fire-burned-area-9468f58d-e04a-4095-9d68-91aa2c655a6c.tar.gz to ../data/europe_2009_08.tar.gz (2M)\n",
      "2023-06-06 10:06:20,760 INFO Download rate 3.4M/s   \n",
      "2023-06-06 10:06:20,828 INFO Welcome to the CDS\n",
      "2023-06-06 10:06:20,829 INFO Sending request to https://cds.climate.copernicus.eu/api/v2/resources/satellite-fire-burned-area\n",
      "2023-06-06 10:06:20,922 INFO Request is completed\n",
      "2023-06-06 10:06:20,923 INFO Downloading https://download-0021.copernicus-climate.eu/cache-compute-0021/cache/data6/dataset-satellite-fire-burned-area-f7b6b684-d85c-4fc5-83f9-1090440624e9.tar.gz to ../data/europe_2010_08.tar.gz (2.1M)\n",
      "2023-06-06 10:06:21,152 INFO Download rate 9M/s    \n",
      "2023-06-06 10:06:21,220 INFO Welcome to the CDS\n",
      "2023-06-06 10:06:21,221 INFO Sending request to https://cds.climate.copernicus.eu/api/v2/resources/satellite-fire-burned-area\n",
      "2023-06-06 10:06:21,403 INFO Request is completed\n",
      "2023-06-06 10:06:21,404 INFO Downloading https://download-0010-clone.copernicus-climate.eu/cache-compute-0010/cache/data8/dataset-satellite-fire-burned-area-c7f80946-a21a-44b4-ba11-1a787bb7469a.tar.gz to ../data/europe_2011_08.tar.gz (2M)\n",
      "2023-06-06 10:06:21,781 INFO Download rate 5.4M/s  \n",
      "2023-06-06 10:06:21,849 INFO Welcome to the CDS\n",
      "2023-06-06 10:06:21,850 INFO Sending request to https://cds.climate.copernicus.eu/api/v2/resources/satellite-fire-burned-area\n",
      "2023-06-06 10:06:21,946 INFO Request is completed\n",
      "2023-06-06 10:06:21,947 INFO Downloading https://download-0010-clone.copernicus-climate.eu/cache-compute-0010/cache/data8/dataset-satellite-fire-burned-area-440c4936-2f0c-4237-8e2e-d258f55894cc.tar.gz to ../data/europe_2012_08.tar.gz (2.1M)\n",
      "2023-06-06 10:06:22,163 INFO Download rate 9.6M/s   \n",
      "2023-06-06 10:06:22,231 INFO Welcome to the CDS\n",
      "2023-06-06 10:06:22,232 INFO Sending request to https://cds.climate.copernicus.eu/api/v2/resources/satellite-fire-burned-area\n",
      "2023-06-06 10:06:22,410 INFO Request is completed\n",
      "2023-06-06 10:06:22,411 INFO Downloading https://download-0007-clone.copernicus-climate.eu/cache-compute-0007/cache/data1/dataset-satellite-fire-burned-area-55a4a5bd-2085-421e-a72b-0f2429c037fb.tar.gz to ../data/europe_2013_08.tar.gz (1.9M)\n",
      "2023-06-06 10:06:22,782 INFO Download rate 5.3M/s   \n",
      "2023-06-06 10:06:22,850 INFO Welcome to the CDS\n",
      "2023-06-06 10:06:22,851 INFO Sending request to https://cds.climate.copernicus.eu/api/v2/resources/satellite-fire-burned-area\n",
      "2023-06-06 10:06:22,974 INFO Request is completed\n",
      "2023-06-06 10:06:22,976 INFO Downloading https://download-0019.copernicus-climate.eu/cache-compute-0019/cache/data4/dataset-satellite-fire-burned-area-c9e5e8fd-13f1-4c73-8ec4-6de36eb5b8ac.tar.gz to ../data/europe_2014_08.tar.gz (2M)\n",
      "2023-06-06 10:06:23,215 INFO Download rate 8.2M/s   \n",
      "2023-06-06 10:06:23,289 INFO Welcome to the CDS\n",
      "2023-06-06 10:06:23,290 INFO Sending request to https://cds.climate.copernicus.eu/api/v2/resources/satellite-fire-burned-area\n",
      "2023-06-06 10:06:23,412 INFO Request is completed\n",
      "2023-06-06 10:06:23,413 INFO Downloading https://download-0006-clone.copernicus-climate.eu/cache-compute-0006/cache/data7/dataset-satellite-fire-burned-area-7ee3cfd9-b0c6-4697-af82-12fcba0f0378.tar.gz to ../data/europe_2015_08.tar.gz (2M)\n",
      "2023-06-06 10:06:23,814 INFO Download rate 5M/s    \n",
      "2023-06-06 10:06:23,882 INFO Welcome to the CDS\n",
      "2023-06-06 10:06:23,883 INFO Sending request to https://cds.climate.copernicus.eu/api/v2/resources/satellite-fire-burned-area\n",
      "2023-06-06 10:06:24,118 INFO Request is completed\n",
      "2023-06-06 10:06:24,120 INFO Downloading https://download-0019.copernicus-climate.eu/cache-compute-0019/cache/data4/dataset-satellite-fire-burned-area-c51e4911-3fdd-442f-9976-1a777f2819fe.tar.gz to ../data/europe_2016_08.tar.gz (2M)\n",
      "2023-06-06 10:06:24,365 INFO Download rate 8.1M/s   \n",
      "2023-06-06 10:06:24,434 INFO Welcome to the CDS\n",
      "2023-06-06 10:06:24,436 INFO Sending request to https://cds.climate.copernicus.eu/api/v2/resources/satellite-fire-burned-area\n",
      "2023-06-06 10:06:24,559 INFO Request is completed\n",
      "2023-06-06 10:06:24,560 INFO Downloading https://download-0019.copernicus-climate.eu/cache-compute-0019/cache/data4/dataset-satellite-fire-burned-area-e32dbe83-155b-426a-85b8-883be918b424.tar.gz to ../data/europe_2017_08.tar.gz (2M)\n",
      "2023-06-06 10:06:24,723 INFO Download rate 12.2M/s  \n",
      "2023-06-06 10:06:24,793 INFO Welcome to the CDS\n",
      "2023-06-06 10:06:24,794 INFO Sending request to https://cds.climate.copernicus.eu/api/v2/resources/satellite-fire-burned-area\n",
      "2023-06-06 10:06:25,021 INFO Request is completed\n",
      "2023-06-06 10:06:25,022 INFO Downloading https://download-0006-clone.copernicus-climate.eu/cache-compute-0006/cache/data3/dataset-satellite-fire-burned-area-08fecb88-4576-468b-ae6f-6e0657b86a78.tar.gz to ../data/europe_2018_08.tar.gz (1.9M)\n",
      "2023-06-06 10:06:25,198 INFO Download rate 10.9M/s  \n",
      "2023-06-06 10:06:25,265 INFO Welcome to the CDS\n",
      "2023-06-06 10:06:25,266 INFO Sending request to https://cds.climate.copernicus.eu/api/v2/resources/satellite-fire-burned-area\n",
      "2023-06-06 10:06:25,380 INFO Request is completed\n",
      "2023-06-06 10:06:25,381 INFO Downloading https://download-0006-clone.copernicus-climate.eu/cache-compute-0006/cache/data3/dataset-satellite-fire-burned-area-cba0223f-8bae-49c9-aa76-7fae80d215cc.tar.gz to ../data/europe_2019_08.tar.gz (1.6M)\n",
      "2023-06-06 10:06:25,534 INFO Download rate 10.5M/s  \n"
     ]
    }
   ],
   "source": [
    "#just select date and region\n",
    "#modifying forloop should not be necessary\n",
    "\n",
    "start_year = 2001\n",
    "end_year = 2019\n",
    "start_month = 8\n",
    "end_month = 8\n",
    "region = 'europe'\n",
    "\n",
    "for i in range(start_year, end_year + 1):\n",
    "    for j in range(start_month, end_month + 1):\n",
    "        data_download(i, j, region)"
   ]
  },
  {
   "attachments": {},
   "cell_type": "markdown",
   "metadata": {},
   "source": [
    "## Preprocessing data and saving the output as fire.csv"
   ]
  },
  {
   "attachments": {},
   "cell_type": "markdown",
   "metadata": {},
   "source": [
    "### function"
   ]
  },
  {
   "cell_type": "code",
   "execution_count": 23,
   "metadata": {},
   "outputs": [],
   "source": [
    "import os\n",
    "import xarray as xr\n",
    "import pandas as pd\n",
    "\n",
    "def fire_preprocessing(file_path):\n",
    "    ds_fire = xr.open_dataset(file_path, engine='netcdf4')\n",
    "    \n",
    "    filtered_data = ds_fire.squeeze('time')\n",
    "    filtered_data = filtered_data.sel(lat=slice(52, 33), lon=slice(-10, 30))\n",
    "    filtered_data = filtered_data[['burned_area',\n",
    "                                   'fraction_of_burnable_area',\n",
    "                                   'lat_bounds',\n",
    "                                   'lon_bounds'\n",
    "                                   ]]\n",
    "    filtered_data = filtered_data.where(filtered_data['fraction_of_burnable_area'] > 0, drop = True)\n",
    "    \n",
    "    fire_df = filtered_data.to_dataframe().reset_index()\n",
    "    fire_df['year'] = fire_df['time'].dt.year\n",
    "    fire_df['month'] = fire_df['time'].dt.month\n",
    "    fire_df = fire_df.drop(['time', 'bounds'], axis= 1).drop_duplicates().dropna()\n",
    "    \n",
    "    return fire_df"
   ]
  },
  {
   "attachments": {},
   "cell_type": "markdown",
   "metadata": {},
   "source": [
    "### this will call the preprocessing function on all the .nc files in ../data folder, preprocess it and save the result in ../data folder in fire.csv file"
   ]
  },
  {
   "cell_type": "code",
   "execution_count": 24,
   "metadata": {},
   "outputs": [],
   "source": [
    "data_dir = '../data'\n",
    "dfs = []\n",
    "\n",
    "for file_name in os.listdir(data_dir):\n",
    "    if file_name.endswith('.nc') and 'FIRE' in file_name:\n",
    "        file_path = os.path.join(data_dir, file_name)\n",
    "        df = fire_preprocessing(file_path)\n",
    "        dfs.append(df)\n",
    "\n",
    "final_df = pd.concat(dfs, ignore_index=True)\n",
    "final_df.to_csv(os.path.join(data_dir, 'fire.csv'), index=False)"
   ]
  }
 ],
 "metadata": {
  "kernelspec": {
   "display_name": "Python 3",
   "language": "python",
   "name": "python3"
  },
  "language_info": {
   "codemirror_mode": {
    "name": "ipython",
    "version": 3
   },
   "file_extension": ".py",
   "mimetype": "text/x-python",
   "name": "python",
   "nbconvert_exporter": "python",
   "pygments_lexer": "ipython3",
   "version": "3.10.6"
  },
  "orig_nbformat": 4
 },
 "nbformat": 4,
 "nbformat_minor": 2
}
